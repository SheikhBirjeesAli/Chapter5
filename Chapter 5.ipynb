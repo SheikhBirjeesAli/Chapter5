{
 "cells": [
  {
   "cell_type": "markdown",
   "metadata": {},
   "source": [
    "# ----------------------------- Chapter 5 -------------------------------------------"
   ]
  },
  {
   "cell_type": "markdown",
   "metadata": {},
   "source": [
    "# Problem Solutions:"
   ]
  },
  {
   "cell_type": "markdown",
   "metadata": {},
   "source": [
    "# Problem 5.1"
   ]
  },
  {
   "cell_type": "code",
   "execution_count": 28,
   "metadata": {},
   "outputs": [
    {
     "name": "stdout",
     "output_type": "stream",
     "text": [
      "18.30963875534188\n"
     ]
    },
    {
     "data": {
      "text/plain": [
       "'Under Weight!'"
      ]
     },
     "execution_count": 28,
     "metadata": {},
     "output_type": "execute_result"
    }
   ],
   "source": [
    "def mybmi(h,w):\n",
    "    bmi = (w*703)/(pow(h,2))\n",
    "    print(bmi)\n",
    "    if bmi < 18.5:\n",
    "        return \"Under Weight!\"\n",
    "    if 25 > bmi >= 18.5:\n",
    "        return \"Normal Weight!\"\n",
    "    if bmi >= 25:\n",
    "        return \"Over Weight!\"\n",
    "mybmi(62.4,101.413)\n"
   ]
  },
  {
   "cell_type": "markdown",
   "metadata": {},
   "source": [
    "# Problem 5.2"
   ]
  },
  {
   "cell_type": "code",
   "execution_count": 34,
   "metadata": {},
   "outputs": [
    {
     "name": "stdout",
     "output_type": "stream",
     "text": [
      "2 4 8 16 32 64 "
     ]
    }
   ],
   "source": [
    "def power(n):\n",
    "    for p in range(1,n+1):\n",
    "        print(pow(2,p),end=\" \")\n",
    "    return\n",
    "power(6)"
   ]
  },
  {
   "cell_type": "markdown",
   "metadata": {},
   "source": [
    "# Problem 5.3"
   ]
  },
  {
   "cell_type": "code",
   "execution_count": 9,
   "metadata": {},
   "outputs": [
    {
     "data": {
      "text/plain": [
       "True"
      ]
     },
     "execution_count": 9,
     "metadata": {},
     "output_type": "execute_result"
    }
   ],
   "source": [
    "def arithmetic(lst):\n",
    "    if len(lst) < 2:\n",
    "        return True\n",
    "    d = lst[1]-lst[0]\n",
    "    for i in range(1,len(lst)-1):\n",
    "        if lst[i+1]-lst[i] != d:\n",
    "            return False\n",
    "    return True\n",
    "arithmetic([2,4,6,8])"
   ]
  },
  {
   "cell_type": "markdown",
   "metadata": {},
   "source": [
    "# Problem 5.4"
   ]
  },
  {
   "cell_type": "code",
   "execution_count": 20,
   "metadata": {},
   "outputs": [
    {
     "data": {
      "text/plain": [
       "120"
      ]
     },
     "execution_count": 20,
     "metadata": {},
     "output_type": "execute_result"
    }
   ],
   "source": [
    "def fact(n):\n",
    "    if n == 0:\n",
    "        return 1\n",
    "    if n > 0:\n",
    "        for m in range(1,n):\n",
    "            n = n*m\n",
    "        return n\n",
    "    return \"less than Zero is not allowed!\"\n",
    "fact(5)"
   ]
  },
  {
   "cell_type": "markdown",
   "metadata": {},
   "source": [
    "# Problem 5.5"
   ]
  },
  {
   "cell_type": "code",
   "execution_count": 29,
   "metadata": {},
   "outputs": [
    {
     "name": "stdout",
     "output_type": "stream",
     "text": [
      "RAM"
     ]
    }
   ],
   "source": [
    "def acr(s):\n",
    "    s = s.split()\n",
    "    for a in s:\n",
    "        print((a[0]).upper(),end=\"\")\n",
    "    return\n",
    "acr(\"random access mem\")"
   ]
  },
  {
   "cell_type": "markdown",
   "metadata": {},
   "source": [
    "# Problem 5.6"
   ]
  },
  {
   "cell_type": "code",
   "execution_count": 33,
   "metadata": {},
   "outputs": [
    {
     "name": "stdout",
     "output_type": "stream",
     "text": [
      "1 11 "
     ]
    }
   ],
   "source": [
    "def divisors(n):\n",
    "    for x in range(1,n+1):\n",
    "        if n%x == 0:\n",
    "            print(x,end=\" \")\n",
    "    return\n",
    "divisors(11)"
   ]
  },
  {
   "cell_type": "markdown",
   "metadata": {},
   "source": [
    "# Problem 5.7"
   ]
  },
  {
   "cell_type": "code",
   "execution_count": 7,
   "metadata": {},
   "outputs": [
    {
     "name": "stdout",
     "output_type": "stream",
     "text": [
      "[2, 10]\n",
      "[2, 10, 3, 15]\n",
      "[6, 0, 8, 0, 2, 0]\n"
     ]
    }
   ],
   "source": [
    "def xmult(l1,l2):\n",
    "    res = []\n",
    "    for num in l1:\n",
    "        for num1 in l2:\n",
    "            res.append(num*num1)\n",
    "    return res\n",
    "print(xmult([2],[1,5]))\n",
    "print(xmult([2,3],[1,5]))\n",
    "print(xmult([3, 4, 1], [2, 0]))"
   ]
  },
  {
   "cell_type": "markdown",
   "metadata": {},
   "source": [
    "# Problem 5.8"
   ]
  },
  {
   "cell_type": "code",
   "execution_count": 21,
   "metadata": {},
   "outputs": [
    {
     "data": {
      "text/plain": [
       "[4, 7, 9, 45, 67, 4646]"
      ]
     },
     "execution_count": 21,
     "metadata": {},
     "output_type": "execute_result"
    }
   ],
   "source": [
    "def bubblesort(lst):\n",
    "    for i in range(len(lst)-1,0,-1):\n",
    "        for j in range(i):\n",
    "            if lst[j]>lst[j+1]:\n",
    "                lst[j],lst[j+1]=lst[j+1],lst[j]\n",
    "    return lst\n",
    "bubblesort([45,67,4,7,4646,9])"
   ]
  },
  {
   "cell_type": "markdown",
   "metadata": {},
   "source": [
    "# Problem 5.9"
   ]
  },
  {
   "cell_type": "code",
   "execution_count": 59,
   "metadata": {},
   "outputs": [
    {
     "data": {
      "text/plain": [
       "[[4, 8, 4, 5], [5, 2, 10, 3], [8, 4, 6, 6]]"
      ]
     },
     "execution_count": 59,
     "metadata": {},
     "output_type": "execute_result"
    }
   ],
   "source": [
    "def add2d(l1,l2):\n",
    "    nrows = len(l1)\n",
    "    ncols = len(l1[0])\n",
    "    for row in range(nrows):\n",
    "        for col in range(ncols):\n",
    "            l1[row][col] = l1[row][col]+l2[row][col]\n",
    "    return l1\n",
    "        \n",
    "t = [[4, 7, 2, 5], [5, 1, 9, 2], [8, 3, 6, 6]]\n",
    "s = [[0, 1, 2, 0], [0, 1, 1, 1], [0, 1, 0, 0]]      \n",
    "\n",
    "add2d(t,s)"
   ]
  },
  {
   "cell_type": "markdown",
   "metadata": {},
   "source": [
    "# Problem 5.10"
   ]
  },
  {
   "cell_type": "code",
   "execution_count": 2,
   "metadata": {},
   "outputs": [
    {
     "data": {
      "text/plain": [
       "11"
      ]
     },
     "execution_count": 2,
     "metadata": {},
     "output_type": "execute_result"
    }
   ],
   "source": [
    "def interest(r):\n",
    "    a = 100\n",
    "    year = 0\n",
    "    while a < 200:\n",
    "        year += 1\n",
    "        a = a+(a*r)\n",
    "    return year\n",
    "interest(0.07)"
   ]
  },
  {
   "cell_type": "markdown",
   "metadata": {},
   "source": [
    "# Problem 5.11"
   ]
  },
  {
   "cell_type": "code",
   "execution_count": 2,
   "metadata": {},
   "outputs": [
    {
     "data": {
      "text/plain": [
       "2.7166666666666663"
      ]
     },
     "execution_count": 2,
     "metadata": {},
     "output_type": "execute_result"
    }
   ],
   "source": [
    "from math import factorial\n",
    "def approxE(error):\n",
    "    prev = 1\n",
    "    current = 2\n",
    "    i = 2\n",
    "    while current-prev > error:\n",
    "        prev = current \n",
    "        current = prev + 1/factorial(i) \n",
    "        i += 1 \n",
    "    return current\n",
    "approxE(0.01)"
   ]
  },
  {
   "cell_type": "markdown",
   "metadata": {},
   "source": [
    "# Exercises:"
   ]
  },
  {
   "cell_type": "markdown",
   "metadata": {},
   "source": [
    "# Exercise 5.12"
   ]
  },
  {
   "cell_type": "code",
   "execution_count": 7,
   "metadata": {},
   "outputs": [
    {
     "data": {
      "text/plain": [
       "'Positive'"
      ]
     },
     "execution_count": 7,
     "metadata": {},
     "output_type": "execute_result"
    }
   ],
   "source": [
    "def test(num):\n",
    "    if num < 0:\n",
    "        return 'Negative'\n",
    "    if num == 0:\n",
    "        return 'Zero'\n",
    "    if num > 0:\n",
    "        return 'Positive'\n",
    "test(5)"
   ]
  },
  {
   "cell_type": "markdown",
   "metadata": {},
   "source": [
    "# Exercise 5.14"
   ]
  },
  {
   "cell_type": "code",
   "execution_count": 9,
   "metadata": {},
   "outputs": [
    {
     "name": "stdout",
     "output_type": "stream",
     "text": [
      "3\n",
      "6\n",
      "3\n",
      "9\n",
      "9\n"
     ]
    }
   ],
   "source": [
    "def mult3(lst):\n",
    "    for num in lst:\n",
    "        if num%3 == 0:\n",
    "            print(num)\n",
    "mult3([3, 1, 6, 2, 3, 9, 7, 9, 5, 4, 5])"
   ]
  },
  {
   "cell_type": "markdown",
   "metadata": {},
   "source": [
    "# Exercise 5.15"
   ]
  },
  {
   "cell_type": "code",
   "execution_count": 23,
   "metadata": {},
   "outputs": [
    {
     "name": "stdout",
     "output_type": "stream",
     "text": [
      "e is a vowel in given string at 1\n",
      "o is a vowel in given string at 4\n",
      "O is a vowel in given string at 7\n"
     ]
    }
   ],
   "source": [
    "def vowels(s):\n",
    "    for char in s:\n",
    "        if char in 'aeoiuAEOUI':\n",
    "            print(char,\"is a vowel in given string at\",s.find(char))\n",
    "vowels('Hello WORLD')"
   ]
  },
  {
   "cell_type": "markdown",
   "metadata": {},
   "source": [
    "# Exercise 5.16"
   ]
  },
  {
   "cell_type": "code",
   "execution_count": 53,
   "metadata": {},
   "outputs": [
    {
     "data": {
      "text/plain": [
       "[1, 4, 7, 10]"
      ]
     },
     "execution_count": 53,
     "metadata": {},
     "output_type": "execute_result"
    }
   ],
   "source": [
    "def indexes(string,char):\n",
    "    lst = list(string)\n",
    "    res = []\n",
    "    for ch in lst:\n",
    "        if ch == char:\n",
    "            i = lst.index(ch)\n",
    "            res.append(i)\n",
    "            lst.pop(i)\n",
    "            lst.insert(i,\"\")\n",
    "    return res\n",
    "            \n",
    "indexes('mississippi', 'i')"
   ]
  },
  {
   "cell_type": "markdown",
   "metadata": {},
   "source": [
    "# Exercise 5.17"
   ]
  },
  {
   "cell_type": "code",
   "execution_count": 60,
   "metadata": {},
   "outputs": [
    {
     "name": "stdout",
     "output_type": "stream",
     "text": [
      "2\n",
      "6\n",
      "4\n"
     ]
    }
   ],
   "source": [
    "def doubles(lst):\n",
    "    l = len(lst)\n",
    "    for i in range(1,l):\n",
    "        if lst[i] == (lst[i-1]*2):\n",
    "            print(lst[i])\n",
    "\n",
    "doubles([3, 0, 1, 2, 3, 6, 2, 4, 5, 6, 5])"
   ]
  },
  {
   "cell_type": "markdown",
   "metadata": {},
   "source": [
    "# Exercise 5.18"
   ]
  },
  {
   "cell_type": "code",
   "execution_count": 63,
   "metadata": {},
   "outputs": [
    {
     "data": {
      "text/plain": [
       "['stop', 'door', 'dust']"
      ]
     },
     "execution_count": 63,
     "metadata": {},
     "output_type": "execute_result"
    }
   ],
   "source": [
    "def four_letter(lst):\n",
    "    res = []\n",
    "    for e in lst:\n",
    "        if len(e) == 4:\n",
    "            res.append(e)\n",
    "    return res\n",
    "\n",
    "four_letter(['dog', 'letter', 'stop', 'door', 'bus', 'dust'])"
   ]
  },
  {
   "cell_type": "markdown",
   "metadata": {},
   "source": [
    "# Exercise 5.19"
   ]
  },
  {
   "cell_type": "code",
   "execution_count": 69,
   "metadata": {},
   "outputs": [
    {
     "data": {
      "text/plain": [
       "True"
      ]
     },
     "execution_count": 69,
     "metadata": {},
     "output_type": "execute_result"
    }
   ],
   "source": [
    "def inBoth(l1,l2):\n",
    "    if len(l1) > len(l2):\n",
    "        for num in l1:\n",
    "            if num in l2:\n",
    "                return True\n",
    "    else:\n",
    "        for num in l2:\n",
    "            if num in l1:\n",
    "                return True\n",
    "    return False\n",
    "\n",
    "inBoth([3, 2, 5, 4, 7], [9, 0, 1, 3])"
   ]
  },
  {
   "cell_type": "markdown",
   "metadata": {},
   "source": [
    "# Exercise 5.20"
   ]
  },
  {
   "cell_type": "code",
   "execution_count": 14,
   "metadata": {},
   "outputs": [
    {
     "name": "stdout",
     "output_type": "stream",
     "text": [
      "{9, 3}\n"
     ]
    }
   ],
   "source": [
    "def intersect(l1,l2):\n",
    "    l1 = set(l1)\n",
    "    l2 = set(l2)\n",
    "    print(l1&l2)\n",
    "intersect([3, 5, 1, 7, 9], [4, 2, 6, 3, 9])"
   ]
  },
  {
   "cell_type": "markdown",
   "metadata": {},
   "source": [
    "# Exercise 5.21"
   ]
  },
  {
   "cell_type": "code",
   "execution_count": 28,
   "metadata": {},
   "outputs": [
    {
     "name": "stdout",
     "output_type": "stream",
     "text": [
      "2 7\n",
      "4 5\n"
     ]
    }
   ],
   "source": [
    "def pair(l1,l2,n):\n",
    "    if len(l1)<len(l2):\n",
    "        for num in l1:\n",
    "            for numm in l2:\n",
    "                if num+numm == n:\n",
    "                    print(num,numm,sep=' ')\n",
    "    else:\n",
    "        for num in l2:\n",
    "            for numm in l1:\n",
    "                if num+numm == n:\n",
    "                    print(num,numm,sep=' ')\n",
    "\n",
    "pair([2, 3, 4], [5, 7, 9, 12], 9)"
   ]
  },
  {
   "cell_type": "markdown",
   "metadata": {},
   "source": [
    "# Exercise 5.22"
   ]
  },
  {
   "cell_type": "code",
   "execution_count": 40,
   "metadata": {},
   "outputs": [
    {
     "name": "stdout",
     "output_type": "stream",
     "text": [
      "0 4\n",
      "1 3\n",
      "2 5\n"
     ]
    }
   ],
   "source": [
    "def pairSum(lst,n):\n",
    "    lstt = lst.copy()\n",
    "    for num in lst:\n",
    "        for numm in lst:\n",
    "            if num+numm == n:\n",
    "                print(lstt.index(num),lstt.index(numm),sep=' ')\n",
    "                lst.remove(numm)\n",
    "pairSum([7, 8, 5, 3, 4, 6], 11)"
   ]
  },
  {
   "cell_type": "markdown",
   "metadata": {},
   "source": [
    "# Exercise 5.23"
   ]
  },
  {
   "cell_type": "code",
   "execution_count": 50,
   "metadata": {},
   "outputs": [
    {
     "name": "stdout",
     "output_type": "stream",
     "text": [
      "350\n",
      "675.0\n",
      "1220\n"
     ]
    }
   ],
   "source": [
    "def pay(hw,nh):\n",
    "    if nh <= 40:\n",
    "        return hw*nh\n",
    "    if 40<nh<=60:\n",
    "        hw = (hw*1.5)\n",
    "        return hw*nh\n",
    "    if nh>=60:\n",
    "        hw = (hw*2)\n",
    "        return hw*nh\n",
    "print(pay(10, 35))\n",
    "print(pay(10, 45))\n",
    "print(pay(10, 61))"
   ]
  },
  {
   "cell_type": "markdown",
   "metadata": {},
   "source": [
    "# Exercise 5.24"
   ]
  },
  {
   "cell_type": "code",
   "execution_count": 52,
   "metadata": {},
   "outputs": [
    {
     "name": "stdout",
     "output_type": "stream",
     "text": [
      "capitalized\n",
      "unknown\n"
     ]
    }
   ],
   "source": [
    "def case(s):\n",
    "    u = 'ABCDEFGHIJKLMNOPQRSTUVWXYZ'\n",
    "    l = 'abcdefghijklmnopqrstuvwxyz'\n",
    "    if s[0] in l:\n",
    "        return \"not capitalized\"\n",
    "    if s[0] in u:\n",
    "        return \"capitalized\"\n",
    "    else:\n",
    "        return \"unknown\"\n",
    "print(case('Android'))\n",
    "print(case('3M'))"
   ]
  },
  {
   "cell_type": "markdown",
   "metadata": {},
   "source": [
    "# Exercise 5.25"
   ]
  },
  {
   "cell_type": "code",
   "execution_count": 56,
   "metadata": {},
   "outputs": [
    {
     "data": {
      "text/plain": [
       "False"
      ]
     },
     "execution_count": 56,
     "metadata": {},
     "output_type": "execute_result"
    }
   ],
   "source": [
    "def leap(y):\n",
    "    if y%4 == 0:\n",
    "        if y%100 != 0:\n",
    "            if y%400 == 0:\n",
    "                return True\n",
    "    return False\n",
    "leap(1900)"
   ]
  },
  {
   "cell_type": "markdown",
   "metadata": {},
   "source": [
    "# Exercise 5.26"
   ]
  },
  {
   "cell_type": "code",
   "execution_count": 60,
   "metadata": {},
   "outputs": [
    {
     "name": "stdout",
     "output_type": "stream",
     "text": [
      "1\n",
      "-1\n",
      "0\n"
     ]
    }
   ],
   "source": [
    "def rps(p1,p2):\n",
    "    if p1 == p2:\n",
    "        return 0\n",
    "    if p1 == 'R' and p2 == 'S' or p1 == 'S' and p2 == 'P' or p1 == 'P' and p2 == 'R':\n",
    "        return -1\n",
    "    else:\n",
    "        return 1\n",
    "print(rps('R', 'P'))\n",
    "print(rps('R', 'S'))\n",
    "print(rps('S', 'S'))"
   ]
  },
  {
   "cell_type": "markdown",
   "metadata": {},
   "source": [
    "# Exercise 5.27"
   ]
  },
  {
   "cell_type": "code",
   "execution_count": 33,
   "metadata": {},
   "outputs": [
    {
     "name": "stdout",
     "output_type": "stream",
     "text": [
      "2.3\n"
     ]
    }
   ],
   "source": [
    "def letter2number(g):\n",
    "    gds = {'A':4,'B':3,'C':2,'D':1,'F':0}\n",
    "    if '-' in g:\n",
    "        g = g.replace('-','')\n",
    "        return gds[g]-0.3\n",
    "    if '+' in g:\n",
    "        g = g.replace('+','')\n",
    "        return gds[g]+0.3\n",
    "    return gds[g]\n",
    "\n",
    "print(letter2number('+C+'))"
   ]
  },
  {
   "cell_type": "markdown",
   "metadata": {},
   "source": [
    "# Exercise 5.28"
   ]
  },
  {
   "cell_type": "code",
   "execution_count": 65,
   "metadata": {},
   "outputs": [
    {
     "name": "stdout",
     "output_type": "stream",
     "text": [
      "True\n",
      "False\n"
     ]
    }
   ],
   "source": [
    "def geometric(gs):\n",
    "    if gs == []:\n",
    "        return 0\n",
    "    r = gs[1]/gs[0]\n",
    "    for n in range(1,len(gs)-1):\n",
    "        if gs[n+1]/gs[n] != r:\n",
    "            return False\n",
    "    return True\n",
    "print(geometric([2, 4, 8, 16, 32, 64, 128, 256]))\n",
    "print(geometric([2, 4, 6, 8]))"
   ]
  },
  {
   "cell_type": "markdown",
   "metadata": {},
   "source": [
    "# Exercise 5.29"
   ]
  },
  {
   "cell_type": "code",
   "execution_count": 69,
   "metadata": {},
   "outputs": [
    {
     "data": {
      "text/plain": [
       "([' Len', ' Kate', ' Bob'], ['Gerber', 'Fox', 'Dunn'])"
      ]
     },
     "execution_count": 69,
     "metadata": {},
     "output_type": "execute_result"
    }
   ],
   "source": [
    "def  lastfirst(lst):\n",
    "    firsts, lasts = [], []\n",
    "    for names in lst:\n",
    "        n = names.split(',')\n",
    "        firsts.append(n[0])\n",
    "        lasts.append(n[1])\n",
    "    return lasts, firsts\n",
    "lastfirst(['Gerber, Len', 'Fox, Kate', 'Dunn, Bob'])\n"
   ]
  },
  {
   "cell_type": "markdown",
   "metadata": {},
   "source": [
    "# Exercise 5.30"
   ]
  },
  {
   "cell_type": "code",
   "execution_count": 72,
   "metadata": {},
   "outputs": [
    {
     "name": "stdout",
     "output_type": "stream",
     "text": [
      "Words of length 1 : 2\n",
      "Words of length 2 : 4\n",
      "Words of length 3 : 5\n",
      "Words of length 4 : 7\n"
     ]
    }
   ],
   "source": [
    "def many(f):\n",
    "    a,b,c,d = 0,0,0,0\n",
    "    file = open(f,'r').read()\n",
    "    words = file.split()\n",
    "    for word in words:\n",
    "        if len(word) == 1:\n",
    "            a += 1\n",
    "        if len(word) == 2:\n",
    "            b += 1\n",
    "        if len(word) == 3:\n",
    "            c += 1\n",
    "        if len(word) == 4:\n",
    "            d += 1\n",
    "    print('Words of length 1 : {}\\nWords of length 2 : {}\\nWords of length 3 : {}\\nWords of length 4 : {}'.format(a,b,c,d))\n",
    "many('text.txt')    "
   ]
  },
  {
   "cell_type": "markdown",
   "metadata": {},
   "source": [
    "# Exercise 5.31"
   ]
  },
  {
   "cell_type": "code",
   "execution_count": 14,
   "metadata": {},
   "outputs": [
    {
     "data": {
      "text/plain": [
       "True"
      ]
     },
     "execution_count": 14,
     "metadata": {},
     "output_type": "execute_result"
    }
   ],
   "source": [
    "def subsetSum(lst,n):\n",
    "    l = lst.copy()\n",
    "    for a in l:\n",
    "        for b in l:\n",
    "            if b != a:\n",
    "                for c in l:\n",
    "                    if c != b and c != a:\n",
    "                        if a+b+c == n:\n",
    "                            return True\n",
    "    return False\n",
    "subsetSum([5, 4, 10, 20, 15, 19],40)            "
   ]
  },
  {
   "cell_type": "markdown",
   "metadata": {},
   "source": [
    "# Exercise 5.32"
   ]
  },
  {
   "cell_type": "code",
   "execution_count": 56,
   "metadata": {},
   "outputs": [
    {
     "name": "stdout",
     "output_type": "stream",
     "text": [
      "1\n",
      "5\n",
      "34\n"
     ]
    }
   ],
   "source": [
    "def fib(n):\n",
    "    #-------------- fib. Sequence --------------\n",
    "    p = 0\n",
    "    c = 1\n",
    "    for i in range(n):\n",
    "        o = c\n",
    "        c += p\n",
    "        p = o\n",
    "    return c\n",
    "print(fib(0))\n",
    "print(fib(4))\n",
    "print(fib(8))"
   ]
  },
  {
   "cell_type": "markdown",
   "metadata": {},
   "source": [
    "# Exercise 5.33"
   ]
  },
  {
   "cell_type": "code",
   "execution_count": 64,
   "metadata": {},
   "outputs": [
    {
     "name": "stdout",
     "output_type": "stream",
     "text": [
      "1\n",
      "3\n",
      "4\n"
     ]
    }
   ],
   "source": [
    "def mystery(n):\n",
    "    res = 0\n",
    "    while n > 2:\n",
    "        n = n/2\n",
    "        res += 1\n",
    "    return res\n",
    "print(mystery(4))\n",
    "print(mystery(11))\n",
    "print(mystery(25))"
   ]
  },
  {
   "cell_type": "markdown",
   "metadata": {},
   "source": [
    "# Exercise 5.34"
   ]
  },
  {
   "cell_type": "code",
   "execution_count": 71,
   "metadata": {},
   "outputs": [
    {
     "data": {
      "text/plain": [
       "[120.29, -70.67]"
      ]
     },
     "execution_count": 71,
     "metadata": {},
     "output_type": "execute_result"
    }
   ],
   "source": [
    "def statement(lst):\n",
    "    w, d, l =  [], [], []\n",
    "    for n in lst:\n",
    "        if n > 0:\n",
    "            d.append(n)\n",
    "        else:\n",
    "            w.append(n)\n",
    "    l.append(sum(d))\n",
    "    l.append(sum(w))\n",
    "    return l\n",
    "statement([30.95, -15.67, 45.56, -55.00, 43.78])"
   ]
  },
  {
   "cell_type": "markdown",
   "metadata": {},
   "source": [
    "# Exercise 5.35"
   ]
  },
  {
   "cell_type": "code",
   "execution_count": 4,
   "metadata": {},
   "outputs": [
    {
     "name": "stdout",
     "output_type": "stream",
     "text": [
      "5\n",
      "7\n"
     ]
    }
   ],
   "source": [
    "def pixels(lst):\n",
    "    count = 0\n",
    "    for row in lst:\n",
    "        for col in row:\n",
    "            if col != 0:\n",
    "                count += 1\n",
    "    return count\n",
    "\n",
    "l = [[0, 156, 0, 0], [34, 0, 0, 0], [23, 123, 0, 34]]    \n",
    "lst = [[123, 56, 255], [34, 0, 0], [23, 123, 0], [3, 0, 0]]\n",
    "print(pixels(l))\n",
    "print(pixels(lst))"
   ]
  },
  {
   "cell_type": "markdown",
   "metadata": {},
   "source": [
    "# Exercise 5.36"
   ]
  },
  {
   "cell_type": "code",
   "execution_count": 25,
   "metadata": {},
   "outputs": [
    {
     "name": "stdout",
     "output_type": "stream",
     "text": [
      "True\n",
      "True\n",
      "False\n"
     ]
    }
   ],
   "source": [
    "def prime(n):\n",
    "    if n > 1:\n",
    "        for i in range(2,n):\n",
    "            if n%i == 0:\n",
    "                return False\n",
    "    return True\n",
    "    \n",
    "print(prime(2))\n",
    "print(prime(17))\n",
    "print(prime(21))"
   ]
  },
  {
   "cell_type": "markdown",
   "metadata": {},
   "source": [
    "# Exercise 5.37"
   ]
  },
  {
   "cell_type": "code",
   "execution_count": null,
   "metadata": {},
   "outputs": [],
   "source": []
  },
  {
   "cell_type": "markdown",
   "metadata": {},
   "source": [
    "# Exercise 5.38"
   ]
  },
  {
   "cell_type": "code",
   "execution_count": 33,
   "metadata": {},
   "outputs": [
    {
     "name": "stdout",
     "output_type": "stream",
     "text": [
      "10\n",
      "5\n",
      "16\n",
      "8\n",
      "4\n",
      "2\n",
      "1\n"
     ]
    }
   ],
   "source": [
    "def collatz(n):\n",
    "    print(n)\n",
    "    while n > 1:\n",
    "        if n%2 == 0:\n",
    "            n = n/2\n",
    "            print(int(n))\n",
    "        else:\n",
    "            n = (3*n)+1\n",
    "            print(int(n))\n",
    "collatz(10)"
   ]
  },
  {
   "cell_type": "markdown",
   "metadata": {},
   "source": [
    "# Exercise 5.39"
   ]
  },
  {
   "cell_type": "code",
   "execution_count": 41,
   "metadata": {},
   "outputs": [
    {
     "name": "stdout",
     "output_type": "stream",
     "text": [
      "aaaargh!\n",
      "heeeelloooo!\n"
     ]
    }
   ],
   "source": [
    "def exclamation(s):\n",
    "    t = 0\n",
    "    v = 'aeoiuAEOIU'\n",
    "    for ch in s:\n",
    "        if ch in v:\n",
    "            s = s.replace(ch,ch*4)\n",
    "            t = 1\n",
    "    if t == 1:\n",
    "        return s+'!'\n",
    "    return s\n",
    "print(exclamation('argh'))\n",
    "print(exclamation('hello'))"
   ]
  },
  {
   "cell_type": "markdown",
   "metadata": {},
   "source": [
    "# Exercise 5.40"
   ]
  },
  {
   "cell_type": "code",
   "execution_count": 2,
   "metadata": {},
   "outputs": [
    {
     "name": "stdout",
     "output_type": "stream",
     "text": [
      "3.141594653593692\n"
     ]
    }
   ],
   "source": [
    "e = 0.001\n",
    "p = 4\n",
    "s = 'm'\n",
    "d = 1\n",
    "while d > e:\n",
    "    for i in range(3,999999):\n",
    "        if i%2 != 0:\n",
    "            if s == 'm':\n",
    "                o = p\n",
    "                p -= 4/i\n",
    "                s = 'p'\n",
    "                d = o-p\n",
    "                #print(p)\n",
    "                continue\n",
    "            if s == 'p':\n",
    "                p += 4/i\n",
    "                s = 'm'\n",
    "                d = o-p\n",
    "print(p)"
   ]
  },
  {
   "cell_type": "code",
   "execution_count": 9,
   "metadata": {},
   "outputs": [
    {
     "name": "stdout",
     "output_type": "stream",
     "text": [
      "True\n",
      "True\n",
      "False\n"
     ]
    }
   ],
   "source": [
    "def evenrow(lst):\n",
    "    s = 0\n",
    "    n = 0\n",
    "    n_rows = len(lst)\n",
    "    for row in range(0,n_rows):\n",
    "        if (sum(lst[row]))%2 != 0:\n",
    "            return False\n",
    "    return True\n",
    "print(evenrow([[1, 3], [2, 4], [0, 6]]))\n",
    "print(evenrow([[1, 3, 2], [3, 4, 7], [0, 6, 2]]))\n",
    "print(evenrow([[1, 3, 2], [3, 4, 7], [0, 5, 2]]))"
   ]
  },
  {
   "cell_type": "code",
   "execution_count": 14,
   "metadata": {},
   "outputs": [
    {
     "name": "stdout",
     "output_type": "stream",
     "text": [
      "[91.0, 65.0, 87.0, 11.333333333333334]\n",
      "63.583333333333336\n"
     ]
    }
   ],
   "source": [
    "def avgavg(lst):\n",
    "    lists = len(lst)\n",
    "    avg_g = []\n",
    "    for lsts in range(lists):\n",
    "        avg_g.append((sum(lst[lsts])/3))\n",
    "    avg = sum(avg_g)/len(avg_g) \n",
    "    print(avg_g)\n",
    "    print(avg)    \n",
    "        \n",
    "avgavg([[95, 92, 86], [66, 75, 54],[89, 72, 100], [34, 0, 0]])"
   ]
  },
  {
   "cell_type": "code",
   "execution_count": 21,
   "metadata": {},
   "outputs": [
    {
     "name": "stdout",
     "output_type": "stream",
     "text": [
      "A\n",
      "B\n",
      "F\n",
      "H\n",
      "D\n"
     ]
    },
    {
     "data": {
      "text/plain": [
       "5"
      ]
     },
     "execution_count": 21,
     "metadata": {},
     "output_type": "execute_result"
    }
   ],
   "source": [
    "def inversions(s):\n",
    "    n = 0\n",
    "    ls = list(s)\n",
    "    for i in range(len(ls)-1):\n",
    "        if ls[i] != ls[i+1]:\n",
    "            print(ls[i])\n",
    "            n += 1\n",
    "    return n\n",
    "\n",
    "inversions('ABBFHDL')"
   ]
  },
  {
   "cell_type": "code",
   "execution_count": 26,
   "metadata": {
    "scrolled": false
   },
   "outputs": [
    {
     "ename": "TypeError",
     "evalue": "cannot unpack non-iterable int object",
     "output_type": "error",
     "traceback": [
      "\u001b[1;31m---------------------------------------------------------------------------\u001b[0m",
      "\u001b[1;31mTypeError\u001b[0m                                 Traceback (most recent call last)",
      "\u001b[1;32m<ipython-input-26-c5494e8d3732>\u001b[0m in \u001b[0;36m<module>\u001b[1;34m\u001b[0m\n\u001b[0;32m      6\u001b[0m \u001b[1;33m\u001b[0m\u001b[0m\n\u001b[0;32m      7\u001b[0m \u001b[1;33m\u001b[0m\u001b[0m\n\u001b[1;32m----> 8\u001b[1;33m \u001b[0mprint\u001b[0m\u001b[1;33m(\u001b[0m\u001b[0msublist\u001b[0m\u001b[1;33m(\u001b[0m\u001b[1;33m[\u001b[0m\u001b[1;36m15\u001b[0m\u001b[1;33m,\u001b[0m \u001b[1;36m1\u001b[0m\u001b[1;33m,\u001b[0m \u001b[1;36m100\u001b[0m\u001b[1;33m]\u001b[0m\u001b[1;33m,\u001b[0m \u001b[1;33m[\u001b[0m\u001b[1;36m20\u001b[0m\u001b[1;33m,\u001b[0m \u001b[1;36m15\u001b[0m\u001b[1;33m,\u001b[0m \u001b[1;36m30\u001b[0m\u001b[1;33m,\u001b[0m \u001b[1;36m50\u001b[0m\u001b[1;33m,\u001b[0m \u001b[1;36m1\u001b[0m\u001b[1;33m,\u001b[0m \u001b[1;36m100\u001b[0m\u001b[1;33m]\u001b[0m\u001b[1;33m)\u001b[0m\u001b[1;33m)\u001b[0m\u001b[1;33m\u001b[0m\u001b[1;33m\u001b[0m\u001b[0m\n\u001b[0m\u001b[0;32m      9\u001b[0m \u001b[0mprint\u001b[0m\u001b[1;33m(\u001b[0m\u001b[0msublist\u001b[0m\u001b[1;33m(\u001b[0m\u001b[1;33m[\u001b[0m\u001b[1;36m15\u001b[0m\u001b[1;33m,\u001b[0m \u001b[1;36m50\u001b[0m\u001b[1;33m,\u001b[0m \u001b[1;36m20\u001b[0m\u001b[1;33m]\u001b[0m\u001b[1;33m,\u001b[0m \u001b[1;33m[\u001b[0m\u001b[1;36m20\u001b[0m\u001b[1;33m,\u001b[0m \u001b[1;36m15\u001b[0m\u001b[1;33m,\u001b[0m \u001b[1;36m30\u001b[0m\u001b[1;33m,\u001b[0m \u001b[1;36m50\u001b[0m\u001b[1;33m,\u001b[0m \u001b[1;36m1\u001b[0m\u001b[1;33m,\u001b[0m \u001b[1;36m100\u001b[0m\u001b[1;33m]\u001b[0m\u001b[1;33m)\u001b[0m\u001b[1;33m)\u001b[0m\u001b[1;33m\u001b[0m\u001b[1;33m\u001b[0m\u001b[0m\n",
      "\u001b[1;32m<ipython-input-26-c5494e8d3732>\u001b[0m in \u001b[0;36msublist\u001b[1;34m(lst1, lst2)\u001b[0m\n\u001b[0;32m      1\u001b[0m \u001b[1;32mdef\u001b[0m \u001b[0msublist\u001b[0m\u001b[1;33m(\u001b[0m\u001b[0mlst1\u001b[0m\u001b[1;33m,\u001b[0m\u001b[0mlst2\u001b[0m\u001b[1;33m)\u001b[0m\u001b[1;33m:\u001b[0m\u001b[1;33m\u001b[0m\u001b[1;33m\u001b[0m\u001b[0m\n\u001b[1;32m----> 2\u001b[1;33m     \u001b[1;32mfor\u001b[0m \u001b[0mi\u001b[0m\u001b[1;33m,\u001b[0m\u001b[0mj\u001b[0m \u001b[1;32min\u001b[0m \u001b[0mlst1\u001b[0m\u001b[1;33m:\u001b[0m\u001b[1;33m\u001b[0m\u001b[1;33m\u001b[0m\u001b[0m\n\u001b[0m\u001b[0;32m      3\u001b[0m         \u001b[1;32mif\u001b[0m \u001b[0mi\u001b[0m \u001b[1;32mnot\u001b[0m \u001b[1;32min\u001b[0m \u001b[0mlst2\u001b[0m\u001b[1;33m:\u001b[0m\u001b[1;33m\u001b[0m\u001b[1;33m\u001b[0m\u001b[0m\n\u001b[0;32m      4\u001b[0m             \u001b[1;32mreturn\u001b[0m \u001b[1;32mFalse\u001b[0m\u001b[1;33m\u001b[0m\u001b[1;33m\u001b[0m\u001b[0m\n\u001b[0;32m      5\u001b[0m     \u001b[1;32mreturn\u001b[0m \u001b[1;32mTrue\u001b[0m\u001b[1;33m\u001b[0m\u001b[1;33m\u001b[0m\u001b[0m\n",
      "\u001b[1;31mTypeError\u001b[0m: cannot unpack non-iterable int object"
     ]
    }
   ],
   "source": [
    "def sublist(lst1,lst2):\n",
    "    for i in lst1:\n",
    "        if i not in lst2:\n",
    "            return False\n",
    "    return True\n",
    "\n",
    "\n",
    "print(sublist([15, 1, 100], [20, 15, 30, 50, 1, 100]))\n",
    "print(sublist([15, 50, 20], [20, 15, 30, 50, 1, 100]))\n"
   ]
  },
  {
   "cell_type": "code",
   "execution_count": null,
   "metadata": {},
   "outputs": [],
   "source": []
  },
  {
   "cell_type": "code",
   "execution_count": 38,
   "metadata": {},
   "outputs": [
    {
     "data": {
      "text/plain": [
       "True"
      ]
     },
     "execution_count": 38,
     "metadata": {},
     "output_type": "execute_result"
    }
   ],
   "source": [
    "def s():\n",
    "    res = 'True'\n",
    "    lst = [0,1,2,3,4,5,6]\n",
    "    for i in range(0,(len(lst)-1)):\n",
    "        if lst[i] > lst[i+1]:\n",
    "            return False\n",
    "    return True\n",
    "s()"
   ]
  },
  {
   "cell_type": "code",
   "execution_count": 1,
   "metadata": {},
   "outputs": [
    {
     "data": {
      "text/plain": [
       "[[4, 8, 4, 5], [5, 2, 10, 3], [8, 4, 6, 6]]"
      ]
     },
     "execution_count": 1,
     "metadata": {},
     "output_type": "execute_result"
    }
   ],
   "source": [
    "def add2d(l1,l2):\n",
    "    res = []\n",
    "    nrows = len(l1)\n",
    "    ncols = len(l1[0])\n",
    "    for row in range(nrows):\n",
    "        for col in range(ncols):\n",
    "            l1[row][col] = l1[row][col]+l2[row][col]\n",
    "    return l1\n",
    "        \n",
    "t = [[4, 7, 2, 5], [5, 1, 9, 2], [8, 3, 6, 6]]\n",
    "s = [[0, 1, 2, 0], [0, 1, 1, 1], [0, 1, 0, 0]]      \n",
    "\n",
    "add2d(t,s)"
   ]
  },
  {
   "cell_type": "code",
   "execution_count": 44,
   "metadata": {},
   "outputs": [
    {
     "name": "stdout",
     "output_type": "stream",
     "text": [
      "1 2 3 \n",
      "4 5 6 \n"
     ]
    }
   ],
   "source": [
    "l = [1,2,3],[4,5,6]\n",
    "def print2D(l):\n",
    "    for row in l:\n",
    "        for ch in row:\n",
    "            print(ch,end=\" \")\n",
    "        print()\n",
    "print2D(l)"
   ]
  },
  {
   "cell_type": "code",
   "execution_count": 54,
   "metadata": {},
   "outputs": [
    {
     "name": "stdout",
     "output_type": "stream",
     "text": [
      "5 8 3 6 \n",
      "6 2 10 3 \n",
      "9 4 7 8 \n"
     ]
    }
   ],
   "source": [
    "l = [4,7,2,5],[5,1,9,2],[8,3,6,7]\n",
    "def incr2D(l):\n",
    "    for row in l:\n",
    "        for ch in row:\n",
    "            print(ch+1,end=\" \")\n",
    "        print()\n",
    "incr2D(l)"
   ]
  },
  {
   "cell_type": "code",
   "execution_count": 10,
   "metadata": {},
   "outputs": [
    {
     "name": "stdout",
     "output_type": "stream",
     "text": [
      "([4, 8, 2, 6], [6, 2, 9, 2])\n"
     ]
    }
   ],
   "source": [
    "l1 = [4,7,2,5],[5,1,9,2]\n",
    "l2 = [0,1,0,1],[1,1,0,0]\n",
    "l1r ,l1c = len(l1), len(l1[0])\n",
    "\n",
    "for row in range(l1r):\n",
    "    for col in range(l1c):\n",
    "        l1[row][col] += l2[row][col]\n"
   ]
  },
  {
   "cell_type": "code",
   "execution_count": 27,
   "metadata": {},
   "outputs": [
    {
     "name": "stdout",
     "output_type": "stream",
     "text": [
      "0 a\n",
      "1 i\n",
      "4 a\n"
     ]
    }
   ],
   "source": [
    "s = 'ainga'\n",
    "for i,j in enumerate(s):\n",
    "    v = 'aeoiuAeOIU'\n",
    "    if j in v:\n",
    "        print(i,j)\n"
   ]
  },
  {
   "cell_type": "code",
   "execution_count": 2,
   "metadata": {},
   "outputs": [
    {
     "name": "stdout",
     "output_type": "stream",
     "text": [
      "1 1 \n",
      "1 1 \n"
     ]
    }
   ],
   "source": [
    "def skip0(tab):\n",
    "    for row in tab:\n",
    "        for ch in row:\n",
    "            if ch == 0:\n",
    "                continue\n",
    "            print(ch,end=' ')\n",
    "        print()\n",
    "tab = [0,1,0,1],[1,1,0,0]\n",
    "skip0(tab)"
   ]
  },
  {
   "cell_type": "code",
   "execution_count": 40,
   "metadata": {},
   "outputs": [
    {
     "data": {
      "text/plain": [
       "{1: 'ff', 2: 'a', 3: 'b', 4: 'c'}"
      ]
     },
     "execution_count": 40,
     "metadata": {},
     "output_type": "execute_result"
    }
   ],
   "source": [
    "d = {1:'f',2:'a',3:'b',4:'c'}\n",
    "dd = {1:'ff',2:'a',3:'b',4:'c'}\n",
    "d.update(dd)\n",
    "d"
   ]
  },
  {
   "cell_type": "code",
   "execution_count": null,
   "metadata": {},
   "outputs": [],
   "source": [
    "t1, t2 = [2], [2,4]\n",
    "if len(t1) > len(t2):\n",
    "    "
   ]
  },
  {
   "cell_type": "code",
   "execution_count": 7,
   "metadata": {},
   "outputs": [
    {
     "name": "stdout",
     "output_type": "stream",
     "text": [
      "1 2 \n",
      "2 4 \n",
      "4 8 \n",
      "8 16 \n"
     ]
    },
    {
     "data": {
      "text/plain": [
       "16"
      ]
     },
     "execution_count": 7,
     "metadata": {},
     "output_type": "execute_result"
    }
   ],
   "source": [
    "def fib(bound):\n",
    "    prev = 1\n",
    "    current = 1\n",
    "    while current <= bound:\n",
    "        print(prev,current,end=' ')\n",
    "        prev = current\n",
    "        current += prev\n",
    "        print()\n",
    "    return current\n",
    "fib(10)"
   ]
  },
  {
   "cell_type": "code",
   "execution_count": 12,
   "metadata": {},
   "outputs": [
    {
     "name": "stdout",
     "output_type": "stream",
     "text": [
      "1 \n",
      "3 \n",
      "6 \n",
      "12 \n",
      "24 \n",
      "48 \n",
      "96 \n",
      "192 \n",
      "384 \n",
      "768 \n"
     ]
    }
   ],
   "source": [
    "p, c = 1, 1\n",
    "for i in range(10):\n",
    "    print(c,end=' ')\n",
    "    if p == 1:\n",
    "        p = 2\n",
    "        c += p\n",
    "        p = c\n",
    "    else:\n",
    "        c += p\n",
    "        p = c\n",
    "    print()\n",
    "    "
   ]
  },
  {
   "cell_type": "code",
   "execution_count": 20,
   "metadata": {},
   "outputs": [
    {
     "name": "stdout",
     "output_type": "stream",
     "text": [
      "1 1\n",
      "2\n",
      "3\n",
      "6\n"
     ]
    }
   ],
   "source": [
    "p, c = 1, 1\n",
    "print(p,c)\n",
    "p = c #1\n",
    "c += p #2\n",
    "print(c)\n",
    "c += p #3\n",
    "p = c \n",
    "print(c)\n",
    "c += p\n",
    "p = c\n",
    "print(c)"
   ]
  },
  {
   "cell_type": "code",
   "execution_count": 38,
   "metadata": {},
   "outputs": [
    {
     "name": "stdout",
     "output_type": "stream",
     "text": [
      "['a', 's', 'b', 'd', 'c']\n",
      "['b', 's', 'd', 'c', 'a']\n",
      "97\n"
     ]
    }
   ],
   "source": [
    "l = ['a','s','b','d','c']\n",
    "print(l)\n",
    "l = set(l)\n",
    "print(list(l))\n",
    "print(ord('a'))"
   ]
  },
  {
   "cell_type": "code",
   "execution_count": 42,
   "metadata": {},
   "outputs": [
    {
     "data": {
      "text/plain": [
       "29.055306148957346"
      ]
     },
     "execution_count": 42,
     "metadata": {},
     "output_type": "execute_result"
    }
   ],
   "source": [
    "import random\n",
    "random.uniform(1,100)"
   ]
  },
  {
   "cell_type": "code",
   "execution_count": 74,
   "metadata": {},
   "outputs": [
    {
     "name": "stdout",
     "output_type": "stream",
     "text": [
      "Day: Thu\n",
      "Hour: 11\n",
      "Day: 50\n"
     ]
    }
   ],
   "source": [
    "import datetime\n",
    "d  = datetime.datetime.now()\n",
    "print('Day:',d.strftime('%a'))\n",
    "print('Hour:',d.strftime('%I'))\n",
    "print('Day:',d.strftime('%U'))"
   ]
  },
  {
   "cell_type": "code",
   "execution_count": null,
   "metadata": {},
   "outputs": [],
   "source": []
  }
 ],
 "metadata": {
  "kernelspec": {
   "display_name": "Python 3",
   "language": "python",
   "name": "python3"
  },
  "language_info": {
   "codemirror_mode": {
    "name": "ipython",
    "version": 3
   },
   "file_extension": ".py",
   "mimetype": "text/x-python",
   "name": "python",
   "nbconvert_exporter": "python",
   "pygments_lexer": "ipython3",
   "version": "3.7.3"
  }
 },
 "nbformat": 4,
 "nbformat_minor": 2
}
